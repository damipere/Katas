{
 "cells": [
  {
   "cell_type": "markdown",
   "metadata": {},
   "source": [
    "## Condicional velocidad de asteroide 49km/hr"
   ]
  },
  {
   "cell_type": "code",
   "execution_count": 2,
   "metadata": {},
   "outputs": [
    {
     "name": "stdout",
     "output_type": "stream",
     "text": [
      "Cuidado asteroide en camino\n"
     ]
    }
   ],
   "source": [
    "# Añadir el código necesario para crear una variable que guarde la velocidad del asteroide.\n",
    "# Escribe una expresión de prueba para calcular si necesita una advertencia.\n",
    "# Agregue las instrucciones que se ejecutarán si la expresión de prueba es true o false.\n",
    "\n",
    "velasteroide=49\n",
    "if(velasteroide>25):\n",
    "    print(\"Cuidado asteroide en camino\")\n",
    "else:\n",
    "    print(\"Sin ningun problema\")"
   ]
  },
  {
   "cell_type": "markdown",
   "metadata": {},
   "source": [
    "## Condicional velocidad de asteroide 19km/hr"
   ]
  },
  {
   "cell_type": "code",
   "execution_count": 4,
   "metadata": {},
   "outputs": [
    {
     "name": "stdout",
     "output_type": "stream",
     "text": [
      "Salgan a ver el haz de luz en el cielo\n"
     ]
    }
   ],
   "source": [
    "# Agrega el código para crear una variable para un asteroide que viaja a 19 km/s\n",
    "# Escribe varias expresiones de prueba para determinar si puedes ver el rayo de luz desde la tierra\n",
    "# Agrega las instrucciones que se ejecutarán si las expresiones de prueba son True o False\n",
    "\n",
    "velasteroide=20\n",
    "if(velasteroide>=20):\n",
    "    print(\"Salgan a ver el haz de luz en el cielo\")\n",
    "else:\n",
    "    print(\"No hay ningun haz de luz\")\n"
   ]
  },
  {
   "cell_type": "markdown",
   "metadata": {},
   "source": [
    "# Programa completo uso de if else elif and y or"
   ]
  },
  {
   "cell_type": "code",
   "execution_count": 16,
   "metadata": {},
   "outputs": [
    {
     "name": "stdout",
     "output_type": "stream",
     "text": [
      "Sin peligro\n"
     ]
    }
   ],
   "source": [
    "'''Agrega el código para crear nuevas variables para la velocidad y el tamaño del asteroide\n",
    " Para probar el código, prueba con varias velocidades y tamaños\n",
    " Escribe varias expresiones de prueba o combinaciones de expresiones de prueba para determinar qué mensaje se debe enviar a Tierra.\n",
    "En este ejercicio, aprenderás información más matizada sobre cuándo los asteroides representan un peligro para la Tierra, y utilizarás esa información\n",
    "para mejorar nuestro sistema de advertencia. Aquí está la nueva información que necesitas saber:\n",
    "\n",
    "Los asteroides de menos de 25 metros en su dimensión más grande probablemente se quemarán a medida que entren en la atmósfera de la Tierra.\n",
    "Si una pieza de un asteroide que es más grande que 25 metros pero más pequeña que 1000 metros golpeara la Tierra, causaría mucho daño.\n",
    "También discutimos en el ejercicio anterior que:\n",
    "La velocidad del asteroide varía en función de lo cerca que esté del sol, y cualquier velocidad superior a 25 kilómetros por segundo (km/s) merece una advertencia.\n",
    "Si un asteroide entra en la atmósfera de la Tierra a una velocidad mayor o igual a 20 km/s, a veces produce un rayo de luz que se puede ver desde la Tierra.\n",
    "Usando toda esta información, escribe un programa que emita la advertencia o información correcta a la gente de la Tierra, según la velocidad y el tamaño de un asteroide.\n",
    "Utiliza instrucciones if, else, y elif, así como los operadores and y or.'''\n",
    "\n",
    "tamanoaste=12\n",
    "velasteroide=12\n",
    "if(tamanoaste<=25 and velasteroide>=20 and velasteroide<=25):\n",
    "    print(\"Asteroide destruido en la atmosfera, es posible que se vea un has de luz en el cielo\")\n",
    "elif(tamanoaste>25 and tamanoaste<1000 or velasteroide>25):\n",
    "    print(\"Advertencia, ¡¡¡¡asteroide en camino!!!!, cataclismo!!!\")\n",
    "else:\n",
    "    print(\"Sin peligro\")\n"
   ]
  }
 ],
 "metadata": {
  "interpreter": {
   "hash": "aa6ac49cd60d087e017065767114d96168978a4b1445e036bacb33910edf04d4"
  },
  "kernelspec": {
   "display_name": "Python 3.10.2 64-bit",
   "language": "python",
   "name": "python3"
  },
  "language_info": {
   "codemirror_mode": {
    "name": "ipython",
    "version": 3
   },
   "file_extension": ".py",
   "mimetype": "text/x-python",
   "name": "python",
   "nbconvert_exporter": "python",
   "pygments_lexer": "ipython3",
   "version": "3.10.2"
  },
  "orig_nbformat": 4
 },
 "nbformat": 4,
 "nbformat_minor": 2
}
