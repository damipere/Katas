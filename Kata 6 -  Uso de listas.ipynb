{
 "cells": [
  {
   "cell_type": "markdown",
   "metadata": {},
   "source": [
    "# Crear y usar listas"
   ]
  },
  {
   "cell_type": "code",
   "execution_count": 7,
   "metadata": {},
   "outputs": [
    {
     "name": "stdout",
     "output_type": "stream",
     "text": [
      "El numero de planetas es: 8\n",
      "El numero de planetas es: 9 y el ultimo planeta en el sistema solar es: Pluto\n"
     ]
    }
   ],
   "source": [
    "## Creamos la lista planets y la mostramos\n",
    "planets = [\"Mercury\",\"Venus\",\"Earth\",\"Mars\",\"Jupiter\", \"Saturn\",\"Uranus\",\"Neptune\"]\n",
    "print(f\"El numero de planetas es: {len(planets)}\")\n",
    "\n",
    "#Agrega a Plutón a la lista que creaste. Luego muestra tanto el número de planetas como el último planeta de la lista.\n",
    "planets.append(\"Pluto\")\n",
    "print(f\"El numero de planetas es: {len(planets)} y el ultimo planeta en el sistema solar es: {planets[len(planets)-1]}\")\n"
   ]
  },
  {
   "cell_type": "markdown",
   "metadata": {},
   "source": [
    "# Trabajando con datos de una lista"
   ]
  },
  {
   "cell_type": "code",
   "execution_count": 5,
   "metadata": {},
   "outputs": [
    {
     "name": "stdout",
     "output_type": "stream",
     "text": [
      "Ingrese el nombre de un planeta en ingles\n",
      "Mercurio es el planeta mas cerca del sol\n"
     ]
    }
   ],
   "source": [
    "# Muestra los planetas más cercanos al sol\n",
    "planets = [\"Mercury\",\"Venus\",\"Earth\",\"Mars\",\"Jupiter\", \"Saturn\",\"Uranus\",\"Neptune\"]\n",
    "print(\"Ingrese el nombre de un planeta en ingles\")\n",
    "planeta= input()\n",
    "indice=planets.index(planeta)\n",
    "if(indice!=0):\n",
    "    cercasol= planets[0:indice]\n",
    "    print(cercasol)\n",
    "else:\n",
    "    print(\"Mercurio es el planeta mas cerca del sol\")"
   ]
  },
  {
   "cell_type": "code",
   "execution_count": 17,
   "metadata": {},
   "outputs": [
    {
     "name": "stdout",
     "output_type": "stream",
     "text": [
      "Ingrese el nombre de un planeta en ingles\n",
      "Neptune es el planeta mas lejos del sol\n"
     ]
    }
   ],
   "source": [
    "# Muestra los planetas más lejanos al sol\n",
    "planets = [\"Mercury\",\"Venus\",\"Earth\",\"Mars\",\"Jupiter\", \"Saturn\",\"Uranus\",\"Neptune\"]\n",
    "print(\"Ingrese el nombre de un planeta en ingles\")\n",
    "planeta= input()\n",
    "indice=planets.index(planeta)\n",
    "fin=len(planets)-1\n",
    "if(indice!=fin):\n",
    "    lejossol= planets[indice+1:]\n",
    "    print(lejossol)\n",
    "else:\n",
    "    print(f\"{planets[fin]} es el planeta mas lejos del sol\")"
   ]
  }
 ],
 "metadata": {
  "interpreter": {
   "hash": "aa6ac49cd60d087e017065767114d96168978a4b1445e036bacb33910edf04d4"
  },
  "kernelspec": {
   "display_name": "Python 3.10.2 64-bit",
   "language": "python",
   "name": "python3"
  },
  "language_info": {
   "codemirror_mode": {
    "name": "ipython",
    "version": 3
   },
   "file_extension": ".py",
   "mimetype": "text/x-python",
   "name": "python",
   "nbconvert_exporter": "python",
   "pygments_lexer": "ipython3",
   "version": "3.10.2"
  },
  "orig_nbformat": 4
 },
 "nbformat": 4,
 "nbformat_minor": 2
}
