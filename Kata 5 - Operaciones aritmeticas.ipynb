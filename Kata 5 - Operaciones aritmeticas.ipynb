{
 "cells": [
  {
   "cell_type": "markdown",
   "metadata": {},
   "source": [
    "# Operaciones Aritmeticas"
   ]
  },
  {
   "cell_type": "code",
   "execution_count": null,
   "metadata": {},
   "outputs": [],
   "source": [
    "# Crear variables para almacenar las dos distancias\n",
    "tierra= 149597870\n",
    "jupiter=778547200\n",
    "print(jupiter-tierra)\n",
    "print((jupiter-tierra)/1.609344)"
   ]
  },
  {
   "cell_type": "code",
   "execution_count": 9,
   "metadata": {},
   "outputs": [
    {
     "name": "stdout",
     "output_type": "stream",
     "text": [
      "La distancia entre marte y venus es: 119700000\n",
      "y en millas es: 74378131.71080887\n"
     ]
    }
   ],
   "source": [
    "# Almacenar las entradas del usuario venus=108200000 marte=227900000\n",
    "primerplaneta= int(input(\"Distancia del sol y marte\"))\n",
    "segundoplaneta= int(input(\"Distancia del sol y venus\"))\n",
    "distanciaentre= primerplaneta-segundoplaneta\n",
    "print(f\"\"\"La distancia entre marte y venus es: {abs(distanciaentre)}\n",
    "y en millas es: {distanciaentre/1.609344}\"\"\")"
   ]
  }
 ],
 "metadata": {
  "interpreter": {
   "hash": "aa6ac49cd60d087e017065767114d96168978a4b1445e036bacb33910edf04d4"
  },
  "kernelspec": {
   "display_name": "Python 3.10.2 64-bit",
   "language": "python",
   "name": "python3"
  },
  "language_info": {
   "codemirror_mode": {
    "name": "ipython",
    "version": 3
   },
   "file_extension": ".py",
   "mimetype": "text/x-python",
   "name": "python",
   "nbconvert_exporter": "python",
   "pygments_lexer": "ipython3",
   "version": "3.10.2"
  },
  "orig_nbformat": 4
 },
 "nbformat": 4,
 "nbformat_minor": 2
}
