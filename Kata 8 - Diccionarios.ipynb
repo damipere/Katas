{
 "cells": [
  {
   "cell_type": "markdown",
   "metadata": {},
   "source": [
    "# Diccionarios"
   ]
  },
  {
   "cell_type": "code",
   "execution_count": 3,
   "metadata": {},
   "outputs": [
    {
     "name": "stdout",
     "output_type": "stream",
     "text": [
      "Nombre del planeta Mars\n",
      "Numero de lunas 2\n",
      "\n",
      "Nombre del planeta Mars\n",
      "Numero de lunas 2\n",
      "Circunferencia polar 6752 km\n"
     ]
    }
   ],
   "source": [
    "# Crea un diccionario llamado planet con los datos propuestos\n",
    "planet={\n",
    "    \"name\": \"Mars\",\n",
    "    \"moons\": 2   \n",
    "}\n",
    "# Muestra el nombre del planeta y el número de lunas que tiene.\n",
    "print(f\"Nombre del planeta {planet.get('name')}\")\n",
    "print(f\"Numero de lunas {planet.get('moons')}\")\n",
    "# Agrega la clave circunferencia con los datos proporcionados previamente\n",
    "planet[\"polar\"] = 6752\n",
    "planet[\"equatorial\"] = 6792\n",
    "# Imprime el nombre del planeta con su circunferencia polar.\n",
    "print(f\"\\nNombre del planeta {planet.get('name')}\")\n",
    "print(f\"Numero de lunas {planet.get('moons')}\")\n",
    "print(f\"Circunferencia polar {planet.get('polar')} km\")"
   ]
  },
  {
   "cell_type": "markdown",
   "metadata": {},
   "source": [
    "# Programación dinámica con diccionarios"
   ]
  },
  {
   "cell_type": "code",
   "execution_count": 9,
   "metadata": {},
   "outputs": [
    {
     "name": "stdout",
     "output_type": "stream",
     "text": [
      "Total de lunas 214 los planetas existentes12, el promedio de lunas es: 17.833333333333332\n"
     ]
    }
   ],
   "source": [
    "# Planets and moons\n",
    "\n",
    "planet_moons = {\n",
    "    'mercury': 0,\n",
    "    'venus': 0,\n",
    "    'earth': 1,\n",
    "    'mars': 2,\n",
    "    'jupiter': 79,\n",
    "    'saturn': 82,\n",
    "    'uranus': 27,\n",
    "    'neptune': 14,\n",
    "    'pluto': 5,\n",
    "    'haumea': 2,\n",
    "    'makemake': 1,\n",
    "    'eris': 1\n",
    "}\n",
    "moons=0 \n",
    "planets=0\n",
    "promedio=0\n",
    "# Añade el código para determinar el número de lunas.\n",
    "\n",
    "for suma in planet_moons.keys():\n",
    "    moons = moons+planet_moons[suma]\n",
    "    planets=planets+1\n",
    "promedio=moons/planets\n",
    "print(f\"Total de lunas {moons} los planetas existentes{planets}, el promedio de lunas es: {promedio}\")"
   ]
  }
 ],
 "metadata": {
  "interpreter": {
   "hash": "aa6ac49cd60d087e017065767114d96168978a4b1445e036bacb33910edf04d4"
  },
  "kernelspec": {
   "display_name": "Python 3.10.2 64-bit",
   "language": "python",
   "name": "python3"
  },
  "language_info": {
   "codemirror_mode": {
    "name": "ipython",
    "version": 3
   },
   "file_extension": ".py",
   "mimetype": "text/x-python",
   "name": "python",
   "nbconvert_exporter": "python",
   "pygments_lexer": "ipython3",
   "version": "3.10.2"
  },
  "orig_nbformat": 4
 },
 "nbformat": 4,
 "nbformat_minor": 2
}
