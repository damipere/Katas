{
 "cells": [
  {
   "cell_type": "markdown",
   "metadata": {},
   "source": [
    "# Uso de funciones en Python"
   ]
  },
  {
   "cell_type": "code",
   "execution_count": 4,
   "metadata": {},
   "outputs": [
    {
     "name": "stdout",
     "output_type": "stream",
     "text": [
      "Tanque uno tiene capacidad de 41, tanque dos 12, tanque tres 14, el promedio de los tres tanques es: 22.333333333333332\n"
     ]
    }
   ],
   "source": [
    "# Función para leer 3 tanques de combustible y muestre el promedio\n",
    "def reportetanques(tank1,tank2,tank3):\n",
    "    promedio=(tank1+tank2+tank3)/3\n",
    "    return f\"\"\"Tanque uno tiene capacidad de {tank1}, tanque dos {tank2}, tanque tres {tank3}, el promedio de los tres tanques es: {promedio}\"\"\"\n",
    "\n",
    "print(reportetanques(41,12,14))\n"
   ]
  },
  {
   "cell_type": "code",
   "execution_count": 6,
   "metadata": {},
   "outputs": [
    {
     "name": "stdout",
     "output_type": "stream",
     "text": [
      "Tanque uno tiene capacidad de 40, tanque dos 12, tanque tres 14, el promedio de los tres tanques es: 22.0\n"
     ]
    }
   ],
   "source": [
    "# Función para leer 3 tanques de combustible y muestre el promedio\n",
    "def reportetanques(tank1,tank2,tank3):\n",
    "    totaltank=tank1+tank2+tank3\n",
    "    return f\"\"\"Tanque uno tiene capacidad de {tank1}, tanque dos {tank2}, tanque tres {tank3}, el promedio de los tres tanques es: {promedio(totaltank)}\"\"\"\n",
    "\n",
    "def promedio(sumatotal):\n",
    "    promedio=0\n",
    "    promedio=sumatotal/3\n",
    "    return promedio\n",
    "\n",
    "\n",
    "print(reportetanques(40,12,14))"
   ]
  },
  {
   "cell_type": "markdown",
   "metadata": {},
   "source": [
    "# Funcion con argumentos"
   ]
  },
  {
   "cell_type": "code",
   "execution_count": 2,
   "metadata": {},
   "outputs": [],
   "source": [
    "# Función con un informe preciso de la misión. Considera hora de prelanzamiento, tiempo de vuelo, destino, tanque externo y tanque interno\n",
    "def informe(mision,prelanzamiento,tvuelo,destino,tanque1,tanque2):\n",
    "    return f\"\"\"Mision {mision}, destino {destino}, tiempo de vuelo {tvuelo}, prelanzamiento {prelanzamiento}, Medidas del tanque 1: {tanque1} galones, Medidas del tanque 1: {tanque2} galones\"\"\""
   ]
  }
 ],
 "metadata": {
  "interpreter": {
   "hash": "aa6ac49cd60d087e017065767114d96168978a4b1445e036bacb33910edf04d4"
  },
  "kernelspec": {
   "display_name": "Python 3.10.2 64-bit",
   "language": "python",
   "name": "python3"
  },
  "language_info": {
   "codemirror_mode": {
    "name": "ipython",
    "version": 3
   },
   "file_extension": ".py",
   "mimetype": "text/x-python",
   "name": "python",
   "nbconvert_exporter": "python",
   "pygments_lexer": "ipython3",
   "version": "3.10.2"
  },
  "orig_nbformat": 4
 },
 "nbformat": 4,
 "nbformat_minor": 2
}
